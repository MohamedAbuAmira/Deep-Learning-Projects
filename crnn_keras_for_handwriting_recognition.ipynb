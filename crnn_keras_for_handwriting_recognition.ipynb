{
  "nbformat": 4,
  "nbformat_minor": 0,
  "metadata": {
    "kernelspec": {
      "language": "python",
      "display_name": "Python 3",
      "name": "python3"
    },
    "language_info": {
      "pygments_lexer": "ipython3",
      "nbconvert_exporter": "python",
      "version": "3.6.4",
      "file_extension": ".py",
      "codemirror_mode": {
        "name": "ipython",
        "version": 3
      },
      "name": "python",
      "mimetype": "text/x-python"
    },
    "colab": {
      "name": "crnn-keras-for-handwriting-recognition.ipynb",
      "provenance": [],
      "collapsed_sections": [],
      "toc_visible": true,
      "include_colab_link": true
    },
    "accelerator": "GPU"
  },
  "cells": [
    {
      "cell_type": "markdown",
      "metadata": {
        "id": "view-in-github",
        "colab_type": "text"
      },
      "source": [
        "<a href=\"https://colab.research.google.com/github/MohamedAbuAmira/Deep-Learning-Projects/blob/master/crnn_keras_for_handwriting_recognition.ipynb\" target=\"_parent\"><img src=\"https://colab.research.google.com/assets/colab-badge.svg\" alt=\"Open In Colab\"/></a>"
      ]
    },
    {
      "cell_type": "markdown",
      "metadata": {
        "id": "YG1_fb-OiC98",
        "colab_type": "text"
      },
      "source": [
        "**UNDER CREATING NOTEBOOK**"
      ]
    },
    {
      "cell_type": "markdown",
      "metadata": {
        "id": "N7_6n3JViXBs",
        "colab_type": "text"
      },
      "source": [
        "https://github.com/qjadud1994/CRNN-Keras"
      ]
    },
    {
      "cell_type": "markdown",
      "metadata": {
        "id": "h3wCl4BRnsBz",
        "colab_type": "text"
      },
      "source": [
        "* **By Mohammed Abu Amira**\n",
        "* **[Linkedin](https://www.linkedin.com/in/mohamedabuamira/)**\n",
        "* **[Github](https://github.com/MohamedAbuAmira)**"
      ]
    },
    {
      "cell_type": "markdown",
      "metadata": {
        "id": "pFileeywnsB1",
        "colab_type": "text"
      },
      "source": [
        "This is Keras implementation of Convolutional Recurrent Neural Network(CNN + RNN + CTC) for Handwriting Recognition Dataset. \n",
        "This notebook applys the paper \"[An End-to-End Trainable Neural Network for Image-based Sequence\n",
        "Recognition and Its Application to Scene Text Recognition](https://arxiv.org/pdf/1507.05717.pdf)\""
      ]
    },
    {
      "cell_type": "markdown",
      "metadata": {
        "id": "MwmP4vvnnsB3",
        "colab_type": "text"
      },
      "source": [
        "# Introduction\n"
      ]
    },
    {
      "cell_type": "markdown",
      "metadata": {
        "id": "uQhqQAXEnsB4",
        "colab_type": "text"
      },
      "source": [
        "Convolutional Recurrent Neural Network (CRNN) is a combination of CNN, RNN, and CTC(Connectionist Temporal Classification) loss for image-based sequence recognition tasks, such as scene text recognition and OCR. The network architecture has been taken from this [paper](https://arxiv.org/pdf/1507.05717.pdf) published in 2015."
      ]
    },
    {
      "cell_type": "markdown",
      "metadata": {
        "id": "BbeaCnB8nsB5",
        "colab_type": "text"
      },
      "source": [
        "![](https://nanonets.com/blog/content/images/2019/08/Screen-Shot-2019-08-13-at-2.07.18-AM.png)"
      ]
    },
    {
      "cell_type": "markdown",
      "metadata": {
        "id": "sbFNgddKnsB7",
        "colab_type": "text"
      },
      "source": [
        "This neural network architecture integrates feature extraction, sequence modeling, and transcription into a unified framework. This model does not need character segmentation. The convolution neural network extracts features from the input image(text detected region). The deep bidirectional recurrent neural network predicts label sequence with some relation between the characters. The transcription layer converts the per-frame made by RNN into a label sequence. There are two modes of transcription, namely the lexicon-free and lexicon-based transcription. In the lexicon-based approach, the highest probable label sequence will be predicted. ([Source](https://nanonets.com/blog/deep-learning-ocr/))"
      ]
    },
    {
      "cell_type": "markdown",
      "metadata": {
        "id": "9Bg2-aFVWSVt",
        "colab_type": "text"
      },
      "source": [
        "# To Use this notebook in Colab"
      ]
    },
    {
      "cell_type": "code",
      "metadata": {
        "id": "t-dFLOpBnv5O",
        "colab_type": "code",
        "colab": {}
      },
      "source": [
        "# To Use it on Colab\n",
        "\n",
        "def download_kaggle_dataset(API_command_dataset, use_function=False):\n",
        "  '''\n",
        "  Function To Download Dataset From Kaggle To the Working Directory\n",
        "\n",
        "  Parameters\n",
        "        ----------\n",
        "        use: boolean\n",
        "            To use this function \n",
        "        API_command_dataset: str\n",
        "            API Command for kaggle dataset\n",
        "  '''\n",
        "  if use_function:\n",
        "\n",
        "      # How to use Kaggle dataset in Colab: https://towardsdatascience.com/how-to-use-kaggle-datasets-in-google-colab-bca5e452a676\n",
        "      # Then we need to upload kaggle.json file.\n",
        "\n",
        "      !pip install -q kaggle\n",
        "      \n",
        "      from google.colab import files\n",
        "      import os\n",
        "      import zipfile\n",
        "\n",
        "      # Kaggle's beta API\n",
        "      print(\"Please upload your API json file for your kaggle account\")\n",
        "      files.upload()\n",
        "\n",
        "      # Ensure kaggle.json is in the location ~/.kaggle/kaggle.json to use the API\n",
        "      !mkdir ~/.kaggle\n",
        "      !cp kaggle.json ~/.kaggle/\n",
        "      !chmod 600 ~/.kaggle/kaggle.json\n",
        "\n",
        "      # as exmple: API_command_dataset=\"kaggle datasets download -d landlord/handwriting-recognition\"\n",
        "      !kaggle datasets download -d landlord/handwriting-recognition\n",
        "\n",
        "      # get the working directory\n",
        "      working_directory=os.getcwd()\n",
        "\n",
        "      # get the folder name of dataset\n",
        "      folder_name= API_command_dataset.split('/')[-1]\n",
        "\n",
        "      zip_file_name= folder_name + \".zip\"\n",
        "      zip_file_path= working_directory + '/' + zip_file_name\n",
        "\n",
        "      \n",
        "      extracting_path = os.path.join(working_directory, folder_name) \n",
        "      os.mkdir(extracting_path) # make directory to extract the zip file in it\n",
        "\n",
        "      \n",
        "      with zipfile.ZipFile(zip_file_path, 'r') as zip_ref:\n",
        "          zip_ref.extractall(extracting_path)\n",
        "\n",
        "      # delete the zip file\n",
        "      os.remove(zip_file_path)\n",
        "\n",
        "      print(\"The zip file extracted in {} folder\".format(folder_name))\n",
        "\n",
        "      print(\"The files in {} Folder are: {}\".format(folder_name, os.listdir(extracting_path)))"
      ],
      "execution_count": 2,
      "outputs": []
    },
    {
      "cell_type": "code",
      "metadata": {
        "id": "tiHkCtQcF9g4",
        "colab_type": "code",
        "colab": {
          "resources": {
            "http://localhost:8080/nbextensions/google.colab/files.js": {
              "data": "Ly8gQ29weXJpZ2h0IDIwMTcgR29vZ2xlIExMQwovLwovLyBMaWNlbnNlZCB1bmRlciB0aGUgQXBhY2hlIExpY2Vuc2UsIFZlcnNpb24gMi4wICh0aGUgIkxpY2Vuc2UiKTsKLy8geW91IG1heSBub3QgdXNlIHRoaXMgZmlsZSBleGNlcHQgaW4gY29tcGxpYW5jZSB3aXRoIHRoZSBMaWNlbnNlLgovLyBZb3UgbWF5IG9idGFpbiBhIGNvcHkgb2YgdGhlIExpY2Vuc2UgYXQKLy8KLy8gICAgICBodHRwOi8vd3d3LmFwYWNoZS5vcmcvbGljZW5zZXMvTElDRU5TRS0yLjAKLy8KLy8gVW5sZXNzIHJlcXVpcmVkIGJ5IGFwcGxpY2FibGUgbGF3IG9yIGFncmVlZCB0byBpbiB3cml0aW5nLCBzb2Z0d2FyZQovLyBkaXN0cmlidXRlZCB1bmRlciB0aGUgTGljZW5zZSBpcyBkaXN0cmlidXRlZCBvbiBhbiAiQVMgSVMiIEJBU0lTLAovLyBXSVRIT1VUIFdBUlJBTlRJRVMgT1IgQ09ORElUSU9OUyBPRiBBTlkgS0lORCwgZWl0aGVyIGV4cHJlc3Mgb3IgaW1wbGllZC4KLy8gU2VlIHRoZSBMaWNlbnNlIGZvciB0aGUgc3BlY2lmaWMgbGFuZ3VhZ2UgZ292ZXJuaW5nIHBlcm1pc3Npb25zIGFuZAovLyBsaW1pdGF0aW9ucyB1bmRlciB0aGUgTGljZW5zZS4KCi8qKgogKiBAZmlsZW92ZXJ2aWV3IEhlbHBlcnMgZm9yIGdvb2dsZS5jb2xhYiBQeXRob24gbW9kdWxlLgogKi8KKGZ1bmN0aW9uKHNjb3BlKSB7CmZ1bmN0aW9uIHNwYW4odGV4dCwgc3R5bGVBdHRyaWJ1dGVzID0ge30pIHsKICBjb25zdCBlbGVtZW50ID0gZG9jdW1lbnQuY3JlYXRlRWxlbWVudCgnc3BhbicpOwogIGVsZW1lbnQudGV4dENvbnRlbnQgPSB0ZXh0OwogIGZvciAoY29uc3Qga2V5IG9mIE9iamVjdC5rZXlzKHN0eWxlQXR0cmlidXRlcykpIHsKICAgIGVsZW1lbnQuc3R5bGVba2V5XSA9IHN0eWxlQXR0cmlidXRlc1trZXldOwogIH0KICByZXR1cm4gZWxlbWVudDsKfQoKLy8gTWF4IG51bWJlciBvZiBieXRlcyB3aGljaCB3aWxsIGJlIHVwbG9hZGVkIGF0IGEgdGltZS4KY29uc3QgTUFYX1BBWUxPQURfU0laRSA9IDEwMCAqIDEwMjQ7CgpmdW5jdGlvbiBfdXBsb2FkRmlsZXMoaW5wdXRJZCwgb3V0cHV0SWQpIHsKICBjb25zdCBzdGVwcyA9IHVwbG9hZEZpbGVzU3RlcChpbnB1dElkLCBvdXRwdXRJZCk7CiAgY29uc3Qgb3V0cHV0RWxlbWVudCA9IGRvY3VtZW50LmdldEVsZW1lbnRCeUlkKG91dHB1dElkKTsKICAvLyBDYWNoZSBzdGVwcyBvbiB0aGUgb3V0cHV0RWxlbWVudCB0byBtYWtlIGl0IGF2YWlsYWJsZSBmb3IgdGhlIG5leHQgY2FsbAogIC8vIHRvIHVwbG9hZEZpbGVzQ29udGludWUgZnJvbSBQeXRob24uCiAgb3V0cHV0RWxlbWVudC5zdGVwcyA9IHN0ZXBzOwoKICByZXR1cm4gX3VwbG9hZEZpbGVzQ29udGludWUob3V0cHV0SWQpOwp9CgovLyBUaGlzIGlzIHJvdWdobHkgYW4gYXN5bmMgZ2VuZXJhdG9yIChub3Qgc3VwcG9ydGVkIGluIHRoZSBicm93c2VyIHlldCksCi8vIHdoZXJlIHRoZXJlIGFyZSBtdWx0aXBsZSBhc3luY2hyb25vdXMgc3RlcHMgYW5kIHRoZSBQeXRob24gc2lkZSBpcyBnb2luZwovLyB0byBwb2xsIGZvciBjb21wbGV0aW9uIG9mIGVhY2ggc3RlcC4KLy8gVGhpcyB1c2VzIGEgUHJvbWlzZSB0byBibG9jayB0aGUgcHl0aG9uIHNpZGUgb24gY29tcGxldGlvbiBvZiBlYWNoIHN0ZXAsCi8vIHRoZW4gcGFzc2VzIHRoZSByZXN1bHQgb2YgdGhlIHByZXZpb3VzIHN0ZXAgYXMgdGhlIGlucHV0IHRvIHRoZSBuZXh0IHN0ZXAuCmZ1bmN0aW9uIF91cGxvYWRGaWxlc0NvbnRpbnVlKG91dHB1dElkKSB7CiAgY29uc3Qgb3V0cHV0RWxlbWVudCA9IGRvY3VtZW50LmdldEVsZW1lbnRCeUlkKG91dHB1dElkKTsKICBjb25zdCBzdGVwcyA9IG91dHB1dEVsZW1lbnQuc3RlcHM7CgogIGNvbnN0IG5leHQgPSBzdGVwcy5uZXh0KG91dHB1dEVsZW1lbnQubGFzdFByb21pc2VWYWx1ZSk7CiAgcmV0dXJuIFByb21pc2UucmVzb2x2ZShuZXh0LnZhbHVlLnByb21pc2UpLnRoZW4oKHZhbHVlKSA9PiB7CiAgICAvLyBDYWNoZSB0aGUgbGFzdCBwcm9taXNlIHZhbHVlIHRvIG1ha2UgaXQgYXZhaWxhYmxlIHRvIHRoZSBuZXh0CiAgICAvLyBzdGVwIG9mIHRoZSBnZW5lcmF0b3IuCiAgICBvdXRwdXRFbGVtZW50Lmxhc3RQcm9taXNlVmFsdWUgPSB2YWx1ZTsKICAgIHJldHVybiBuZXh0LnZhbHVlLnJlc3BvbnNlOwogIH0pOwp9CgovKioKICogR2VuZXJhdG9yIGZ1bmN0aW9uIHdoaWNoIGlzIGNhbGxlZCBiZXR3ZWVuIGVhY2ggYXN5bmMgc3RlcCBvZiB0aGUgdXBsb2FkCiAqIHByb2Nlc3MuCiAqIEBwYXJhbSB7c3RyaW5nfSBpbnB1dElkIEVsZW1lbnQgSUQgb2YgdGhlIGlucHV0IGZpbGUgcGlja2VyIGVsZW1lbnQuCiAqIEBwYXJhbSB7c3RyaW5nfSBvdXRwdXRJZCBFbGVtZW50IElEIG9mIHRoZSBvdXRwdXQgZGlzcGxheS4KICogQHJldHVybiB7IUl0ZXJhYmxlPCFPYmplY3Q+fSBJdGVyYWJsZSBvZiBuZXh0IHN0ZXBzLgogKi8KZnVuY3Rpb24qIHVwbG9hZEZpbGVzU3RlcChpbnB1dElkLCBvdXRwdXRJZCkgewogIGNvbnN0IGlucHV0RWxlbWVudCA9IGRvY3VtZW50LmdldEVsZW1lbnRCeUlkKGlucHV0SWQpOwogIGlucHV0RWxlbWVudC5kaXNhYmxlZCA9IGZhbHNlOwoKICBjb25zdCBvdXRwdXRFbGVtZW50ID0gZG9jdW1lbnQuZ2V0RWxlbWVudEJ5SWQob3V0cHV0SWQpOwogIG91dHB1dEVsZW1lbnQuaW5uZXJIVE1MID0gJyc7CgogIGNvbnN0IHBpY2tlZFByb21pc2UgPSBuZXcgUHJvbWlzZSgocmVzb2x2ZSkgPT4gewogICAgaW5wdXRFbGVtZW50LmFkZEV2ZW50TGlzdGVuZXIoJ2NoYW5nZScsIChlKSA9PiB7CiAgICAgIHJlc29sdmUoZS50YXJnZXQuZmlsZXMpOwogICAgfSk7CiAgfSk7CgogIGNvbnN0IGNhbmNlbCA9IGRvY3VtZW50LmNyZWF0ZUVsZW1lbnQoJ2J1dHRvbicpOwogIGlucHV0RWxlbWVudC5wYXJlbnRFbGVtZW50LmFwcGVuZENoaWxkKGNhbmNlbCk7CiAgY2FuY2VsLnRleHRDb250ZW50ID0gJ0NhbmNlbCB1cGxvYWQnOwogIGNvbnN0IGNhbmNlbFByb21pc2UgPSBuZXcgUHJvbWlzZSgocmVzb2x2ZSkgPT4gewogICAgY2FuY2VsLm9uY2xpY2sgPSAoKSA9PiB7CiAgICAgIHJlc29sdmUobnVsbCk7CiAgICB9OwogIH0pOwoKICAvLyBXYWl0IGZvciB0aGUgdXNlciB0byBwaWNrIHRoZSBmaWxlcy4KICBjb25zdCBmaWxlcyA9IHlpZWxkIHsKICAgIHByb21pc2U6IFByb21pc2UucmFjZShbcGlja2VkUHJvbWlzZSwgY2FuY2VsUHJvbWlzZV0pLAogICAgcmVzcG9uc2U6IHsKICAgICAgYWN0aW9uOiAnc3RhcnRpbmcnLAogICAgfQogIH07CgogIGNhbmNlbC5yZW1vdmUoKTsKCiAgLy8gRGlzYWJsZSB0aGUgaW5wdXQgZWxlbWVudCBzaW5jZSBmdXJ0aGVyIHBpY2tzIGFyZSBub3QgYWxsb3dlZC4KICBpbnB1dEVsZW1lbnQuZGlzYWJsZWQgPSB0cnVlOwoKICBpZiAoIWZpbGVzKSB7CiAgICByZXR1cm4gewogICAgICByZXNwb25zZTogewogICAgICAgIGFjdGlvbjogJ2NvbXBsZXRlJywKICAgICAgfQogICAgfTsKICB9CgogIGZvciAoY29uc3QgZmlsZSBvZiBmaWxlcykgewogICAgY29uc3QgbGkgPSBkb2N1bWVudC5jcmVhdGVFbGVtZW50KCdsaScpOwogICAgbGkuYXBwZW5kKHNwYW4oZmlsZS5uYW1lLCB7Zm9udFdlaWdodDogJ2JvbGQnfSkpOwogICAgbGkuYXBwZW5kKHNwYW4oCiAgICAgICAgYCgke2ZpbGUudHlwZSB8fCAnbi9hJ30pIC0gJHtmaWxlLnNpemV9IGJ5dGVzLCBgICsKICAgICAgICBgbGFzdCBtb2RpZmllZDogJHsKICAgICAgICAgICAgZmlsZS5sYXN0TW9kaWZpZWREYXRlID8gZmlsZS5sYXN0TW9kaWZpZWREYXRlLnRvTG9jYWxlRGF0ZVN0cmluZygpIDoKICAgICAgICAgICAgICAgICAgICAgICAgICAgICAgICAgICAgJ24vYSd9IC0gYCkpOwogICAgY29uc3QgcGVyY2VudCA9IHNwYW4oJzAlIGRvbmUnKTsKICAgIGxpLmFwcGVuZENoaWxkKHBlcmNlbnQpOwoKICAgIG91dHB1dEVsZW1lbnQuYXBwZW5kQ2hpbGQobGkpOwoKICAgIGNvbnN0IGZpbGVEYXRhUHJvbWlzZSA9IG5ldyBQcm9taXNlKChyZXNvbHZlKSA9PiB7CiAgICAgIGNvbnN0IHJlYWRlciA9IG5ldyBGaWxlUmVhZGVyKCk7CiAgICAgIHJlYWRlci5vbmxvYWQgPSAoZSkgPT4gewogICAgICAgIHJlc29sdmUoZS50YXJnZXQucmVzdWx0KTsKICAgICAgfTsKICAgICAgcmVhZGVyLnJlYWRBc0FycmF5QnVmZmVyKGZpbGUpOwogICAgfSk7CiAgICAvLyBXYWl0IGZvciB0aGUgZGF0YSB0byBiZSByZWFkeS4KICAgIGxldCBmaWxlRGF0YSA9IHlpZWxkIHsKICAgICAgcHJvbWlzZTogZmlsZURhdGFQcm9taXNlLAogICAgICByZXNwb25zZTogewogICAgICAgIGFjdGlvbjogJ2NvbnRpbnVlJywKICAgICAgfQogICAgfTsKCiAgICAvLyBVc2UgYSBjaHVua2VkIHNlbmRpbmcgdG8gYXZvaWQgbWVzc2FnZSBzaXplIGxpbWl0cy4gU2VlIGIvNjIxMTU2NjAuCiAgICBsZXQgcG9zaXRpb24gPSAwOwogICAgd2hpbGUgKHBvc2l0aW9uIDwgZmlsZURhdGEuYnl0ZUxlbmd0aCkgewogICAgICBjb25zdCBsZW5ndGggPSBNYXRoLm1pbihmaWxlRGF0YS5ieXRlTGVuZ3RoIC0gcG9zaXRpb24sIE1BWF9QQVlMT0FEX1NJWkUpOwogICAgICBjb25zdCBjaHVuayA9IG5ldyBVaW50OEFycmF5KGZpbGVEYXRhLCBwb3NpdGlvbiwgbGVuZ3RoKTsKICAgICAgcG9zaXRpb24gKz0gbGVuZ3RoOwoKICAgICAgY29uc3QgYmFzZTY0ID0gYnRvYShTdHJpbmcuZnJvbUNoYXJDb2RlLmFwcGx5KG51bGwsIGNodW5rKSk7CiAgICAgIHlpZWxkIHsKICAgICAgICByZXNwb25zZTogewogICAgICAgICAgYWN0aW9uOiAnYXBwZW5kJywKICAgICAgICAgIGZpbGU6IGZpbGUubmFtZSwKICAgICAgICAgIGRhdGE6IGJhc2U2NCwKICAgICAgICB9LAogICAgICB9OwogICAgICBwZXJjZW50LnRleHRDb250ZW50ID0KICAgICAgICAgIGAke01hdGgucm91bmQoKHBvc2l0aW9uIC8gZmlsZURhdGEuYnl0ZUxlbmd0aCkgKiAxMDApfSUgZG9uZWA7CiAgICB9CiAgfQoKICAvLyBBbGwgZG9uZS4KICB5aWVsZCB7CiAgICByZXNwb25zZTogewogICAgICBhY3Rpb246ICdjb21wbGV0ZScsCiAgICB9CiAgfTsKfQoKc2NvcGUuZ29vZ2xlID0gc2NvcGUuZ29vZ2xlIHx8IHt9OwpzY29wZS5nb29nbGUuY29sYWIgPSBzY29wZS5nb29nbGUuY29sYWIgfHwge307CnNjb3BlLmdvb2dsZS5jb2xhYi5fZmlsZXMgPSB7CiAgX3VwbG9hZEZpbGVzLAogIF91cGxvYWRGaWxlc0NvbnRpbnVlLAp9Owp9KShzZWxmKTsK",
              "ok": true,
              "headers": [
                [
                  "content-type",
                  "application/javascript"
                ]
              ],
              "status": 200,
              "status_text": ""
            }
          },
          "base_uri": "https://localhost:8080/",
          "height": 194
        },
        "outputId": "0290084d-728e-46b6-e8d5-e0c39d22144c"
      },
      "source": [
        "download_kaggle_dataset(use_function=True, API_command_dataset=\"kaggle datasets download -d landlord/handwriting-recognition\")"
      ],
      "execution_count": 3,
      "outputs": [
        {
          "output_type": "stream",
          "text": [
            "Please upload your API json file for your kaggle account\n"
          ],
          "name": "stdout"
        },
        {
          "output_type": "display_data",
          "data": {
            "text/html": [
              "\n",
              "     <input type=\"file\" id=\"files-eee1cb69-1dc0-4909-80fa-1f84e3505b63\" name=\"files[]\" multiple disabled\n",
              "        style=\"border:none\" />\n",
              "     <output id=\"result-eee1cb69-1dc0-4909-80fa-1f84e3505b63\">\n",
              "      Upload widget is only available when the cell has been executed in the\n",
              "      current browser session. Please rerun this cell to enable.\n",
              "      </output>\n",
              "      <script src=\"/nbextensions/google.colab/files.js\"></script> "
            ],
            "text/plain": [
              "<IPython.core.display.HTML object>"
            ]
          },
          "metadata": {
            "tags": []
          }
        },
        {
          "output_type": "stream",
          "text": [
            "Saving kaggle.json to kaggle.json\n",
            "Downloading handwriting-recognition.zip to /content\n",
            " 99% 1.24G/1.26G [00:14<00:00, 101MB/s] \n",
            "100% 1.26G/1.26G [00:14<00:00, 92.1MB/s]\n",
            "The zip file extracted in handwriting-recognition folder\n",
            "The files in handwriting-recognition Folder are: ['train_v2', 'written_name_test_v2.csv', 'written_name_validation_v2.csv', 'written_name_train_v2.csv', 'validation_v2', 'test_v2']\n"
          ],
          "name": "stdout"
        }
      ]
    },
    {
      "cell_type": "markdown",
      "metadata": {
        "id": "BNAc2M4hnsB8",
        "colab_type": "text"
      },
      "source": [
        "# Importing Libraries "
      ]
    },
    {
      "cell_type": "code",
      "metadata": {
        "trusted": true,
        "id": "EGtOf0FansB9",
        "colab_type": "code",
        "colab": {
          "base_uri": "https://localhost:8080/",
          "height": 71
        },
        "outputId": "c50bea05-436f-4095-b0ee-96b55aa42802"
      },
      "source": [
        "import os\n",
        "import re\n",
        "import pandas as pd\n",
        "import numpy as np\n",
        "import matplotlib.pyplot as plt\n",
        "%matplotlib inline\n",
        "import seaborn as sns\n",
        "\n",
        "import keras\n",
        "from keras import backend as K\n",
        "from keras.layers import Conv2D, MaxPooling2D\n",
        "from keras.layers import Input, Dense, Activation\n",
        "from keras.layers import Reshape, Lambda, BatchNormalization\n",
        "from keras.layers.merge import add, concatenate\n",
        "from keras.models import Model\n",
        "from keras.layers.recurrent import LSTM"
      ],
      "execution_count": 4,
      "outputs": [
        {
          "output_type": "stream",
          "text": [
            "/usr/local/lib/python3.6/dist-packages/statsmodels/tools/_testing.py:19: FutureWarning: pandas.util.testing is deprecated. Use the functions in the public API at pandas.testing instead.\n",
            "  import pandas.util.testing as tm\n"
          ],
          "name": "stderr"
        }
      ]
    },
    {
      "cell_type": "markdown",
      "metadata": {
        "id": "wGSCkpgansCE",
        "colab_type": "text"
      },
      "source": [
        "### Enabling and testing the GPU"
      ]
    },
    {
      "cell_type": "code",
      "metadata": {
        "trusted": true,
        "id": "zE6NaJ06nsCH",
        "colab_type": "code",
        "colab": {
          "base_uri": "https://localhost:8080/",
          "height": 51
        },
        "outputId": "e91b0fa8-f2fd-4a77-dda3-2473f43a995e"
      },
      "source": [
        "import tensorflow as tf\n",
        "\n",
        "device_name = tf.test.gpu_device_name()\n",
        "if \"GPU\" not in device_name:\n",
        "    print(\"GPU device not found\")\n",
        "print('Found GPU at: {}'.format(device_name))\n",
        "\n",
        "print(\"GPU\", \"available (YESS!)\" if tf.config.list_physical_devices(\"GPU\") else \"not available :(\")"
      ],
      "execution_count": 5,
      "outputs": [
        {
          "output_type": "stream",
          "text": [
            "Found GPU at: /device:GPU:0\n",
            "GPU available (YESS!)\n"
          ],
          "name": "stdout"
        }
      ]
    },
    {
      "cell_type": "code",
      "metadata": {
        "trusted": true,
        "id": "eJC0-Fj6nsCN",
        "colab_type": "code",
        "colab": {
          "base_uri": "https://localhost:8080/",
          "height": 51
        },
        "outputId": "272ef678-ffcc-4ccf-d21e-21de7d0a3e39"
      },
      "source": [
        "print(\"keras Version: \", keras.__version__)\n",
        "print(\"TensorFlow Version: \", tf.__version__)"
      ],
      "execution_count": 6,
      "outputs": [
        {
          "output_type": "stream",
          "text": [
            "keras Version:  2.4.3\n",
            "TensorFlow Version:  2.3.0\n"
          ],
          "name": "stdout"
        }
      ]
    },
    {
      "cell_type": "markdown",
      "metadata": {
        "id": "xEuN4T2BDpQM",
        "colab_type": "text"
      },
      "source": [
        "# Load files and images"
      ]
    },
    {
      "cell_type": "code",
      "metadata": {
        "_uuid": "d629ff2d2480ee46fbb7e2d37f6b5fab8052498a",
        "_cell_guid": "79c7e3d0-c299-4dcb-8224-4455121ee9b0",
        "trusted": true,
        "id": "0siyeYELnsCS",
        "colab_type": "code",
        "colab": {}
      },
      "source": [
        "# creat data dirctories, we my use it later\n",
        "working_directory=os.getcwd()\n",
        "\n",
        "DATA_DIR = working_directory + '/handwriting-recognition/'\n",
        "\n",
        "TRAIN_CSV = DATA_DIR + 'written_name_train_v2.csv'\n",
        "VALID_CSV = DATA_DIR +'written_name_validation_v2.csv'\n",
        "TEST_CSV  = DATA_DIR + 'written_name_test_v2.csv' \n",
        "\n",
        "TRAIN_IMG_DIR = DATA_DIR + 'train_v2/train/' \n",
        "VALID_IMG_DIR = DATA_DIR + 'validation_v2/validation/'\n",
        "TEST_IMG_DIR  = DATA_DIR + 'test_v2/test/'                             "
      ],
      "execution_count": 7,
      "outputs": []
    },
    {
      "cell_type": "code",
      "metadata": {
        "trusted": true,
        "id": "NMB5GeIOnsCW",
        "colab_type": "code",
        "colab": {}
      },
      "source": [
        "IMG_DIRs=[TRAIN_IMG_DIR, VALID_IMG_DIR, TEST_IMG_DIR]"
      ],
      "execution_count": 8,
      "outputs": []
    },
    {
      "cell_type": "code",
      "metadata": {
        "trusted": true,
        "id": "x_-Odz8vnsCb",
        "colab_type": "code",
        "colab": {}
      },
      "source": [
        "TRAIN_IMG_FILENAMES=[]\n",
        "VALID_IMG_FILENAMES=[]\n",
        "TEST_IMG_FILENAMES=[]\n",
        "IMG_FILENAMES=[TRAIN_IMG_FILENAMES, VALID_IMG_FILENAMES, TEST_IMG_FILENAMES]"
      ],
      "execution_count": 9,
      "outputs": []
    },
    {
      "cell_type": "code",
      "metadata": {
        "trusted": true,
        "id": "5ZDh7W-8nsCh",
        "colab_type": "code",
        "colab": {}
      },
      "source": [
        "# Store All filenames as list, for train, valid, test\n",
        "\n",
        "for img_path in IMG_DIRs:\n",
        "    for _, _, filenames in os.walk(img_path):\n",
        "        for filename in filenames:\n",
        "            IMG_FILENAMES[IMG_DIRs.index(img_path)].append(os.path.join(img_path, filename))\n",
        "            "
      ],
      "execution_count": 10,
      "outputs": []
    },
    {
      "cell_type": "code",
      "metadata": {
        "trusted": true,
        "id": "5aHeQWY8nsCp",
        "colab_type": "code",
        "colab": {}
      },
      "source": [
        "TRAIN_DF = pd.read_csv(TRAIN_CSV)\n",
        "VALID_DF = pd.read_csv(VALID_CSV)\n",
        "TEST_DF  = pd.read_csv(TEST_CSV)"
      ],
      "execution_count": 11,
      "outputs": []
    },
    {
      "cell_type": "markdown",
      "metadata": {
        "id": "r-HXtTEKDzc7",
        "colab_type": "text"
      },
      "source": [
        "# Check Dataframes and display images"
      ]
    },
    {
      "cell_type": "code",
      "metadata": {
        "trusted": true,
        "id": "Wl7KLqHxnsCv",
        "colab_type": "code",
        "colab": {
          "base_uri": "https://localhost:8080/",
          "height": 359
        },
        "outputId": "353ab8e1-cb48-475d-df8c-8d44d9b5a0ae"
      },
      "source": [
        "TRAIN_DF.head(10)"
      ],
      "execution_count": 12,
      "outputs": [
        {
          "output_type": "execute_result",
          "data": {
            "text/html": [
              "<div>\n",
              "<style scoped>\n",
              "    .dataframe tbody tr th:only-of-type {\n",
              "        vertical-align: middle;\n",
              "    }\n",
              "\n",
              "    .dataframe tbody tr th {\n",
              "        vertical-align: top;\n",
              "    }\n",
              "\n",
              "    .dataframe thead th {\n",
              "        text-align: right;\n",
              "    }\n",
              "</style>\n",
              "<table border=\"1\" class=\"dataframe\">\n",
              "  <thead>\n",
              "    <tr style=\"text-align: right;\">\n",
              "      <th></th>\n",
              "      <th>FILENAME</th>\n",
              "      <th>IDENTITY</th>\n",
              "    </tr>\n",
              "  </thead>\n",
              "  <tbody>\n",
              "    <tr>\n",
              "      <th>0</th>\n",
              "      <td>TRAIN_00001.jpg</td>\n",
              "      <td>BALTHAZAR</td>\n",
              "    </tr>\n",
              "    <tr>\n",
              "      <th>1</th>\n",
              "      <td>TRAIN_00002.jpg</td>\n",
              "      <td>SIMON</td>\n",
              "    </tr>\n",
              "    <tr>\n",
              "      <th>2</th>\n",
              "      <td>TRAIN_00003.jpg</td>\n",
              "      <td>BENES</td>\n",
              "    </tr>\n",
              "    <tr>\n",
              "      <th>3</th>\n",
              "      <td>TRAIN_00004.jpg</td>\n",
              "      <td>LA LOVE</td>\n",
              "    </tr>\n",
              "    <tr>\n",
              "      <th>4</th>\n",
              "      <td>TRAIN_00005.jpg</td>\n",
              "      <td>DAPHNE</td>\n",
              "    </tr>\n",
              "    <tr>\n",
              "      <th>5</th>\n",
              "      <td>TRAIN_00006.jpg</td>\n",
              "      <td>LUCIE</td>\n",
              "    </tr>\n",
              "    <tr>\n",
              "      <th>6</th>\n",
              "      <td>TRAIN_00007.jpg</td>\n",
              "      <td>NASSIM</td>\n",
              "    </tr>\n",
              "    <tr>\n",
              "      <th>7</th>\n",
              "      <td>TRAIN_00008.jpg</td>\n",
              "      <td>ASSRAOUI</td>\n",
              "    </tr>\n",
              "    <tr>\n",
              "      <th>8</th>\n",
              "      <td>TRAIN_00009.jpg</td>\n",
              "      <td>LAVIAN</td>\n",
              "    </tr>\n",
              "    <tr>\n",
              "      <th>9</th>\n",
              "      <td>TRAIN_00010.jpg</td>\n",
              "      <td>MAEVA</td>\n",
              "    </tr>\n",
              "  </tbody>\n",
              "</table>\n",
              "</div>"
            ],
            "text/plain": [
              "          FILENAME   IDENTITY\n",
              "0  TRAIN_00001.jpg  BALTHAZAR\n",
              "1  TRAIN_00002.jpg      SIMON\n",
              "2  TRAIN_00003.jpg      BENES\n",
              "3  TRAIN_00004.jpg    LA LOVE\n",
              "4  TRAIN_00005.jpg     DAPHNE\n",
              "5  TRAIN_00006.jpg      LUCIE\n",
              "6  TRAIN_00007.jpg     NASSIM\n",
              "7  TRAIN_00008.jpg   ASSRAOUI\n",
              "8  TRAIN_00009.jpg     LAVIAN\n",
              "9  TRAIN_00010.jpg      MAEVA"
            ]
          },
          "metadata": {
            "tags": []
          },
          "execution_count": 12
        }
      ]
    },
    {
      "cell_type": "code",
      "metadata": {
        "trusted": true,
        "id": "zBTYTMQGnsC2",
        "colab_type": "code",
        "colab": {
          "base_uri": "https://localhost:8080/",
          "height": 173
        },
        "outputId": "6d2d34d5-314e-496b-c7a2-b6e10da84cbc"
      },
      "source": [
        "TRAIN_DF.describe()"
      ],
      "execution_count": 13,
      "outputs": [
        {
          "output_type": "execute_result",
          "data": {
            "text/html": [
              "<div>\n",
              "<style scoped>\n",
              "    .dataframe tbody tr th:only-of-type {\n",
              "        vertical-align: middle;\n",
              "    }\n",
              "\n",
              "    .dataframe tbody tr th {\n",
              "        vertical-align: top;\n",
              "    }\n",
              "\n",
              "    .dataframe thead th {\n",
              "        text-align: right;\n",
              "    }\n",
              "</style>\n",
              "<table border=\"1\" class=\"dataframe\">\n",
              "  <thead>\n",
              "    <tr style=\"text-align: right;\">\n",
              "      <th></th>\n",
              "      <th>FILENAME</th>\n",
              "      <th>IDENTITY</th>\n",
              "    </tr>\n",
              "  </thead>\n",
              "  <tbody>\n",
              "    <tr>\n",
              "      <th>count</th>\n",
              "      <td>330961</td>\n",
              "      <td>330396</td>\n",
              "    </tr>\n",
              "    <tr>\n",
              "      <th>unique</th>\n",
              "      <td>330961</td>\n",
              "      <td>100539</td>\n",
              "    </tr>\n",
              "    <tr>\n",
              "      <th>top</th>\n",
              "      <td>TRAIN_282776.jpg</td>\n",
              "      <td>THOMAS</td>\n",
              "    </tr>\n",
              "    <tr>\n",
              "      <th>freq</th>\n",
              "      <td>1</td>\n",
              "      <td>1825</td>\n",
              "    </tr>\n",
              "  </tbody>\n",
              "</table>\n",
              "</div>"
            ],
            "text/plain": [
              "                FILENAME IDENTITY\n",
              "count             330961   330396\n",
              "unique            330961   100539\n",
              "top     TRAIN_282776.jpg   THOMAS\n",
              "freq                   1     1825"
            ]
          },
          "metadata": {
            "tags": []
          },
          "execution_count": 13
        }
      ]
    },
    {
      "cell_type": "code",
      "metadata": {
        "trusted": true,
        "id": "JD703gH4nsC6",
        "colab_type": "code",
        "colab": {
          "base_uri": "https://localhost:8080/",
          "height": 34
        },
        "outputId": "f5963b4e-2a1c-4e22-82d6-6977174390d9"
      },
      "source": [
        "print(\"The number of files in Train image directory: \", len(TRAIN_IMG_FILENAMES))"
      ],
      "execution_count": 14,
      "outputs": [
        {
          "output_type": "stream",
          "text": [
            "The number of files in Train image directory:  330961\n"
          ],
          "name": "stdout"
        }
      ]
    },
    {
      "cell_type": "code",
      "metadata": {
        "trusted": true,
        "id": "ZmBnq9wdnsC_",
        "colab_type": "code",
        "colab": {
          "base_uri": "https://localhost:8080/",
          "height": 359
        },
        "outputId": "2b3ad48f-d180-4587-d978-ce5a1dbf226b"
      },
      "source": [
        "VALID_DF.head(10)"
      ],
      "execution_count": 15,
      "outputs": [
        {
          "output_type": "execute_result",
          "data": {
            "text/html": [
              "<div>\n",
              "<style scoped>\n",
              "    .dataframe tbody tr th:only-of-type {\n",
              "        vertical-align: middle;\n",
              "    }\n",
              "\n",
              "    .dataframe tbody tr th {\n",
              "        vertical-align: top;\n",
              "    }\n",
              "\n",
              "    .dataframe thead th {\n",
              "        text-align: right;\n",
              "    }\n",
              "</style>\n",
              "<table border=\"1\" class=\"dataframe\">\n",
              "  <thead>\n",
              "    <tr style=\"text-align: right;\">\n",
              "      <th></th>\n",
              "      <th>FILENAME</th>\n",
              "      <th>IDENTITY</th>\n",
              "    </tr>\n",
              "  </thead>\n",
              "  <tbody>\n",
              "    <tr>\n",
              "      <th>0</th>\n",
              "      <td>VALIDATION_0001.jpg</td>\n",
              "      <td>BILEL</td>\n",
              "    </tr>\n",
              "    <tr>\n",
              "      <th>1</th>\n",
              "      <td>VALIDATION_0002.jpg</td>\n",
              "      <td>LAUMIONIER</td>\n",
              "    </tr>\n",
              "    <tr>\n",
              "      <th>2</th>\n",
              "      <td>VALIDATION_0003.jpg</td>\n",
              "      <td>LEA</td>\n",
              "    </tr>\n",
              "    <tr>\n",
              "      <th>3</th>\n",
              "      <td>VALIDATION_0004.jpg</td>\n",
              "      <td>JEAN-ROCH</td>\n",
              "    </tr>\n",
              "    <tr>\n",
              "      <th>4</th>\n",
              "      <td>VALIDATION_0005.jpg</td>\n",
              "      <td>RUPP</td>\n",
              "    </tr>\n",
              "    <tr>\n",
              "      <th>5</th>\n",
              "      <td>VALIDATION_0006.jpg</td>\n",
              "      <td>UNREADABLE</td>\n",
              "    </tr>\n",
              "    <tr>\n",
              "      <th>6</th>\n",
              "      <td>VALIDATION_0007.jpg</td>\n",
              "      <td>PICHON</td>\n",
              "    </tr>\n",
              "    <tr>\n",
              "      <th>7</th>\n",
              "      <td>VALIDATION_0008.jpg</td>\n",
              "      <td>DANIEL</td>\n",
              "    </tr>\n",
              "    <tr>\n",
              "      <th>8</th>\n",
              "      <td>VALIDATION_0009.jpg</td>\n",
              "      <td>JEREMY</td>\n",
              "    </tr>\n",
              "    <tr>\n",
              "      <th>9</th>\n",
              "      <td>VALIDATION_0010.jpg</td>\n",
              "      <td>JEAN-MICHEL</td>\n",
              "    </tr>\n",
              "  </tbody>\n",
              "</table>\n",
              "</div>"
            ],
            "text/plain": [
              "              FILENAME     IDENTITY\n",
              "0  VALIDATION_0001.jpg        BILEL\n",
              "1  VALIDATION_0002.jpg   LAUMIONIER\n",
              "2  VALIDATION_0003.jpg          LEA\n",
              "3  VALIDATION_0004.jpg    JEAN-ROCH\n",
              "4  VALIDATION_0005.jpg         RUPP\n",
              "5  VALIDATION_0006.jpg   UNREADABLE\n",
              "6  VALIDATION_0007.jpg       PICHON\n",
              "7  VALIDATION_0008.jpg       DANIEL\n",
              "8  VALIDATION_0009.jpg       JEREMY\n",
              "9  VALIDATION_0010.jpg  JEAN-MICHEL"
            ]
          },
          "metadata": {
            "tags": []
          },
          "execution_count": 15
        }
      ]
    },
    {
      "cell_type": "code",
      "metadata": {
        "trusted": true,
        "id": "Zggx6-ernsDC",
        "colab_type": "code",
        "colab": {
          "base_uri": "https://localhost:8080/",
          "height": 173
        },
        "outputId": "3dfd540f-9ff1-4035-f20f-b01765ee570a"
      },
      "source": [
        "VALID_DF.describe()"
      ],
      "execution_count": 16,
      "outputs": [
        {
          "output_type": "execute_result",
          "data": {
            "text/html": [
              "<div>\n",
              "<style scoped>\n",
              "    .dataframe tbody tr th:only-of-type {\n",
              "        vertical-align: middle;\n",
              "    }\n",
              "\n",
              "    .dataframe tbody tr th {\n",
              "        vertical-align: top;\n",
              "    }\n",
              "\n",
              "    .dataframe thead th {\n",
              "        text-align: right;\n",
              "    }\n",
              "</style>\n",
              "<table border=\"1\" class=\"dataframe\">\n",
              "  <thead>\n",
              "    <tr style=\"text-align: right;\">\n",
              "      <th></th>\n",
              "      <th>FILENAME</th>\n",
              "      <th>IDENTITY</th>\n",
              "    </tr>\n",
              "  </thead>\n",
              "  <tbody>\n",
              "    <tr>\n",
              "      <th>count</th>\n",
              "      <td>41370</td>\n",
              "      <td>41292</td>\n",
              "    </tr>\n",
              "    <tr>\n",
              "      <th>unique</th>\n",
              "      <td>41370</td>\n",
              "      <td>20227</td>\n",
              "    </tr>\n",
              "    <tr>\n",
              "      <th>top</th>\n",
              "      <td>VALIDATION_1980.jpg</td>\n",
              "      <td>THOMAS</td>\n",
              "    </tr>\n",
              "    <tr>\n",
              "      <th>freq</th>\n",
              "      <td>1</td>\n",
              "      <td>219</td>\n",
              "    </tr>\n",
              "  </tbody>\n",
              "</table>\n",
              "</div>"
            ],
            "text/plain": [
              "                   FILENAME IDENTITY\n",
              "count                 41370    41292\n",
              "unique                41370    20227\n",
              "top     VALIDATION_1980.jpg   THOMAS\n",
              "freq                      1      219"
            ]
          },
          "metadata": {
            "tags": []
          },
          "execution_count": 16
        }
      ]
    },
    {
      "cell_type": "code",
      "metadata": {
        "trusted": true,
        "id": "rkwg9UjPnsDG",
        "colab_type": "code",
        "colab": {
          "base_uri": "https://localhost:8080/",
          "height": 34
        },
        "outputId": "f3f55331-fa33-4495-f0ce-7fdcf60a8e7f"
      },
      "source": [
        "print(\"The number of files in Valid image directory: \", len(VALID_IMG_FILENAMES))"
      ],
      "execution_count": 17,
      "outputs": [
        {
          "output_type": "stream",
          "text": [
            "The number of files in Valid image directory:  41370\n"
          ],
          "name": "stdout"
        }
      ]
    },
    {
      "cell_type": "code",
      "metadata": {
        "trusted": true,
        "id": "Be1GJ74wnsDK",
        "colab_type": "code",
        "colab": {
          "base_uri": "https://localhost:8080/",
          "height": 359
        },
        "outputId": "cb3b4d4f-5e74-4641-8b93-15de7a62382e"
      },
      "source": [
        "TEST_DF.head(10)"
      ],
      "execution_count": 18,
      "outputs": [
        {
          "output_type": "execute_result",
          "data": {
            "text/html": [
              "<div>\n",
              "<style scoped>\n",
              "    .dataframe tbody tr th:only-of-type {\n",
              "        vertical-align: middle;\n",
              "    }\n",
              "\n",
              "    .dataframe tbody tr th {\n",
              "        vertical-align: top;\n",
              "    }\n",
              "\n",
              "    .dataframe thead th {\n",
              "        text-align: right;\n",
              "    }\n",
              "</style>\n",
              "<table border=\"1\" class=\"dataframe\">\n",
              "  <thead>\n",
              "    <tr style=\"text-align: right;\">\n",
              "      <th></th>\n",
              "      <th>FILENAME</th>\n",
              "      <th>IDENTITY</th>\n",
              "    </tr>\n",
              "  </thead>\n",
              "  <tbody>\n",
              "    <tr>\n",
              "      <th>0</th>\n",
              "      <td>TEST_0001.jpg</td>\n",
              "      <td>KEVIN</td>\n",
              "    </tr>\n",
              "    <tr>\n",
              "      <th>1</th>\n",
              "      <td>TEST_0002.jpg</td>\n",
              "      <td>CLOTAIRE</td>\n",
              "    </tr>\n",
              "    <tr>\n",
              "      <th>2</th>\n",
              "      <td>TEST_0003.jpg</td>\n",
              "      <td>LENA</td>\n",
              "    </tr>\n",
              "    <tr>\n",
              "      <th>3</th>\n",
              "      <td>TEST_0004.jpg</td>\n",
              "      <td>JULES</td>\n",
              "    </tr>\n",
              "    <tr>\n",
              "      <th>4</th>\n",
              "      <td>TEST_0005.jpg</td>\n",
              "      <td>CHERPIN</td>\n",
              "    </tr>\n",
              "    <tr>\n",
              "      <th>5</th>\n",
              "      <td>TEST_0006.jpg</td>\n",
              "      <td>MARTIN</td>\n",
              "    </tr>\n",
              "    <tr>\n",
              "      <th>6</th>\n",
              "      <td>TEST_0007.jpg</td>\n",
              "      <td>VALENTINE</td>\n",
              "    </tr>\n",
              "    <tr>\n",
              "      <th>7</th>\n",
              "      <td>TEST_0008.jpg</td>\n",
              "      <td>LORAS</td>\n",
              "    </tr>\n",
              "    <tr>\n",
              "      <th>8</th>\n",
              "      <td>TEST_0009.jpg</td>\n",
              "      <td>THIBAULT</td>\n",
              "    </tr>\n",
              "    <tr>\n",
              "      <th>9</th>\n",
              "      <td>TEST_0010.jpg</td>\n",
              "      <td>AZABI</td>\n",
              "    </tr>\n",
              "  </tbody>\n",
              "</table>\n",
              "</div>"
            ],
            "text/plain": [
              "        FILENAME   IDENTITY\n",
              "0  TEST_0001.jpg      KEVIN\n",
              "1  TEST_0002.jpg   CLOTAIRE\n",
              "2  TEST_0003.jpg       LENA\n",
              "3  TEST_0004.jpg      JULES\n",
              "4  TEST_0005.jpg    CHERPIN\n",
              "5  TEST_0006.jpg     MARTIN\n",
              "6  TEST_0007.jpg  VALENTINE\n",
              "7  TEST_0008.jpg      LORAS\n",
              "8  TEST_0009.jpg   THIBAULT\n",
              "9  TEST_0010.jpg      AZABI"
            ]
          },
          "metadata": {
            "tags": []
          },
          "execution_count": 18
        }
      ]
    },
    {
      "cell_type": "code",
      "metadata": {
        "trusted": true,
        "id": "zaL6Us5OnsDR",
        "colab_type": "code",
        "colab": {
          "base_uri": "https://localhost:8080/",
          "height": 173
        },
        "outputId": "9e48b485-7045-4eb2-b94d-ff7daccb01a9"
      },
      "source": [
        "TEST_DF.describe()"
      ],
      "execution_count": 19,
      "outputs": [
        {
          "output_type": "execute_result",
          "data": {
            "text/html": [
              "<div>\n",
              "<style scoped>\n",
              "    .dataframe tbody tr th:only-of-type {\n",
              "        vertical-align: middle;\n",
              "    }\n",
              "\n",
              "    .dataframe tbody tr th {\n",
              "        vertical-align: top;\n",
              "    }\n",
              "\n",
              "    .dataframe thead th {\n",
              "        text-align: right;\n",
              "    }\n",
              "</style>\n",
              "<table border=\"1\" class=\"dataframe\">\n",
              "  <thead>\n",
              "    <tr style=\"text-align: right;\">\n",
              "      <th></th>\n",
              "      <th>FILENAME</th>\n",
              "      <th>IDENTITY</th>\n",
              "    </tr>\n",
              "  </thead>\n",
              "  <tbody>\n",
              "    <tr>\n",
              "      <th>count</th>\n",
              "      <td>41370</td>\n",
              "      <td>41300</td>\n",
              "    </tr>\n",
              "    <tr>\n",
              "      <th>unique</th>\n",
              "      <td>41370</td>\n",
              "      <td>20279</td>\n",
              "    </tr>\n",
              "    <tr>\n",
              "      <th>top</th>\n",
              "      <td>TEST_21850.jpg</td>\n",
              "      <td>THOMAS</td>\n",
              "    </tr>\n",
              "    <tr>\n",
              "      <th>freq</th>\n",
              "      <td>1</td>\n",
              "      <td>227</td>\n",
              "    </tr>\n",
              "  </tbody>\n",
              "</table>\n",
              "</div>"
            ],
            "text/plain": [
              "              FILENAME IDENTITY\n",
              "count            41370    41300\n",
              "unique           41370    20279\n",
              "top     TEST_21850.jpg   THOMAS\n",
              "freq                 1      227"
            ]
          },
          "metadata": {
            "tags": []
          },
          "execution_count": 19
        }
      ]
    },
    {
      "cell_type": "code",
      "metadata": {
        "trusted": true,
        "id": "fflM_HMAnsDW",
        "colab_type": "code",
        "colab": {
          "base_uri": "https://localhost:8080/",
          "height": 34
        },
        "outputId": "c6e0af69-1273-413f-f80d-ec8e89d21c46"
      },
      "source": [
        "print(\"The number of files in Test image directory: \", len(TEST_IMG_FILENAMES))"
      ],
      "execution_count": 20,
      "outputs": [
        {
          "output_type": "stream",
          "text": [
            "The number of files in Test image directory:  41370\n"
          ],
          "name": "stdout"
        }
      ]
    },
    {
      "cell_type": "code",
      "metadata": {
        "id": "bYDbI6Df-vrg",
        "colab_type": "code",
        "colab": {}
      },
      "source": [
        "# Define a function to display images\n",
        "\n",
        "def display_six_images():\n",
        "  plt.figure(figsize=(15,15))\n",
        "  for i in range(6):\n",
        "    plt.subplot(3,3 ,1+i)\n",
        "\n",
        "    img_file= TRAIN_IMG_DIR + TRAIN_DF.loc[i, 'FILENAME']\n",
        "    img_title = TRAIN_DF.loc[i, 'IDENTITY']\n",
        "\n",
        "    img=plt.imread(img_file)\n",
        "    plt.imshow(img)\n",
        "    plt.title(img_title)\n",
        "    plt.tight_layout()\n",
        "  plt.show"
      ],
      "execution_count": 21,
      "outputs": []
    },
    {
      "cell_type": "code",
      "metadata": {
        "id": "tOVBncuEAjeP",
        "colab_type": "code",
        "colab": {
          "base_uri": "https://localhost:8080/",
          "height": 388
        },
        "outputId": "1f51251b-edfc-450b-dc02-618833c15bc3"
      },
      "source": [
        "display_six_images()"
      ],
      "execution_count": 22,
      "outputs": [
        {
          "output_type": "display_data",
          "data": {
            "image/png": "[encoded data removed]",
            "text/plain": [
              "<Figure size 1080x1080 with 6 Axes>"
            ]
          },
          "metadata": {
            "tags": [],
            "needs_background": "light"
          }
        }
      ]
    },
    {
      "cell_type": "markdown",
      "metadata": {
        "id": "nqdHFLjfEXEu",
        "colab_type": "text"
      },
      "source": [
        "# Clean Data"
      ]
    },
    {
      "cell_type": "markdown",
      "metadata": {
        "id": "jHCHE-2_nsDZ",
        "colab_type": "text"
      },
      "source": [
        "We note the number of files in images directories are equal with number of entries in 'FILENAME' column in dataframes. \n",
        "but the number of entries in 'IDENTITY' column is different with 'FILENAME' column, this because there are NANs values. Let's check them"
      ]
    },
    {
      "cell_type": "code",
      "metadata": {
        "trusted": true,
        "id": "etSNtv8CnsDa",
        "colab_type": "code",
        "colab": {
          "base_uri": "https://localhost:8080/",
          "height": 68
        },
        "outputId": "334f4056-da8c-4a92-eab3-828294ca7abb"
      },
      "source": [
        "# check nan values count\n",
        "\n",
        "print(\"Number of NaNs in train dataframe : \", TRAIN_DF['IDENTITY'].isnull().sum())\n",
        "print(\"Number of NaNs in valid dataframe : \", VALID_DF['IDENTITY'].isnull().sum())\n",
        "print(\"Number of NaNs in test dataframe  : \", TEST_DF['IDENTITY'].isnull().sum())"
      ],
      "execution_count": 23,
      "outputs": [
        {
          "output_type": "stream",
          "text": [
            "Number of NaNs in train dataframe :  565\n",
            "Number of NaNs in valid dataframe :  78\n",
            "Number of NaNs in test dataframe  :  70\n"
          ],
          "name": "stdout"
        }
      ]
    },
    {
      "cell_type": "markdown",
      "metadata": {
        "id": "s_SCbN6jnsDd",
        "colab_type": "text"
      },
      "source": [
        "I will drop out all NaNs rows in all dataframes, and delete the image files corresponding to those rows; that means get the indexes of NaNs rows then take the filename for that row, then remove this file from filename list"
      ]
    },
    {
      "cell_type": "code",
      "metadata": {
        "trusted": true,
        "id": "CPK0npO4nsDe",
        "colab_type": "code",
        "colab": {}
      },
      "source": [
        "NAN_index_train_df = TRAIN_DF['IDENTITY'].index[TRAIN_DF['IDENTITY'].isnull()]\n",
        "NAN_index_valid_df = VALID_DF['IDENTITY'].index[VALID_DF['IDENTITY'].isnull()]\n",
        "NAN_index_test_df  = TEST_DF['IDENTITY'].index[TEST_DF['IDENTITY'].isnull()]\n"
      ],
      "execution_count": 24,
      "outputs": []
    },
    {
      "cell_type": "code",
      "metadata": {
        "trusted": true,
        "id": "tNenC_7PnsDl",
        "colab_type": "code",
        "colab": {
          "base_uri": "https://localhost:8080/",
          "height": 134
        },
        "outputId": "49dfc87f-f27e-4730-b786-9b9a97274ea7"
      },
      "source": [
        "# check example, \n",
        "nan_index=NAN_index_test_df[0]\n",
        "imgfile=TEST_IMG_DIR + TEST_DF.loc[nan_index, 'FILENAME']\n",
        "img=plt.imread(imgfile)\n",
        "plt.imshow(img)\n",
        "TEST_DF.loc[nan_index, :]"
      ],
      "execution_count": 25,
      "outputs": [
        {
          "output_type": "execute_result",
          "data": {
            "text/plain": [
              "FILENAME    TEST_0945.jpg\n",
              "IDENTITY              NaN\n",
              "Name: 944, dtype: object"
            ]
          },
          "metadata": {
            "tags": []
          },
          "execution_count": 25
        },
        {
          "output_type": "display_data",
          "data": {
            "image/png": "[encoded data removed]",
            "text/plain": [
              "<Figure size 432x288 with 1 Axes>"
            ]
          },
          "metadata": {
            "tags": [],
            "needs_background": "light"
          }
        }
      ]
    },
    {
      "cell_type": "code",
      "metadata": {
        "trusted": true,
        "id": "DcX-K4IUnsDp",
        "colab_type": "code",
        "cellView": "code",
        "colab": {}
      },
      "source": [
        "\n",
        "# Drop all nan entries in dataframes\n",
        "\n",
        "TRAIN_DF.dropna(axis=0, inplace=True)\n",
        "VALID_DF.dropna(axis=0, inplace=True)\n",
        "TEST_DF.dropna(axis=0, inplace=True)\n"
      ],
      "execution_count": 26,
      "outputs": []
    },
    {
      "cell_type": "code",
      "metadata": {
        "trusted": true,
        "id": "ff_vba9gnsDu",
        "colab_type": "code",
        "colab": {
          "base_uri": "https://localhost:8080/",
          "height": 34
        },
        "outputId": "6535c791-a510-4d0d-c3da-c7b95d35fd1e"
      },
      "source": [
        "# Check all good\n",
        "print(\"Number of NaNs in All dataframes : \", TRAIN_DF['IDENTITY'].isnull().sum() + VALID_DF['IDENTITY'].isnull().sum() + TEST_DF['IDENTITY'].isnull().sum())"
      ],
      "execution_count": 27,
      "outputs": [
        {
          "output_type": "stream",
          "text": [
            "Number of NaNs in All dataframes :  0\n"
          ],
          "name": "stdout"
        }
      ]
    },
    {
      "cell_type": "markdown",
      "metadata": {
        "id": "-xwwdbPT3eVI",
        "colab_type": "text"
      },
      "source": [
        "There are some images in data with the label 'UNREADABLE'. Lets check those images and remove them"
      ]
    },
    {
      "cell_type": "code",
      "metadata": {
        "id": "qhlyEdML58xx",
        "colab_type": "code",
        "colab": {}
      },
      "source": [
        "unreadable_index_train_df = TRAIN_DF['IDENTITY'].index[TRAIN_DF['IDENTITY']=='UNREADABLE']\n",
        "unreadable_index_valid_df = VALID_DF['IDENTITY'].index[VALID_DF['IDENTITY']=='UNREADABLE']\n",
        "unreadable_index_test_df  = TEST_DF['IDENTITY'].index[TEST_DF['IDENTITY']=='UNREADABLE']"
      ],
      "execution_count": 28,
      "outputs": []
    },
    {
      "cell_type": "code",
      "metadata": {
        "id": "cvkMy6tN42qG",
        "colab_type": "code",
        "colab": {
          "base_uri": "https://localhost:8080/",
          "height": 148
        },
        "outputId": "c79fb6d9-bd54-4dca-b86b-4ef95cd535f8"
      },
      "source": [
        "index_=unreadable_index_train_df[0]\n",
        "imgfile= TRAIN_IMG_DIR + TRAIN_DF.loc[index_, 'FILENAME']\n",
        "img=plt.imread(imgfile)\n",
        "plt.imshow(img)\n",
        "TRAIN_DF.loc[index_, :]"
      ],
      "execution_count": 29,
      "outputs": [
        {
          "output_type": "execute_result",
          "data": {
            "text/plain": [
              "FILENAME    TRAIN_00807.jpg\n",
              "IDENTITY         UNREADABLE\n",
              "Name: 806, dtype: object"
            ]
          },
          "metadata": {
            "tags": []
          },
          "execution_count": 29
        },
        {
          "output_type": "display_data",
          "data": {
            "image/png": "[encoded data removed]",
            "text/plain": [
              "<Figure size 432x288 with 1 Axes>"
            ]
          },
          "metadata": {
            "tags": [],
            "needs_background": "light"
          }
        }
      ]
    },
    {
      "cell_type": "code",
      "metadata": {
        "id": "PdFtjIii5uo1",
        "colab_type": "code",
        "colab": {}
      },
      "source": [
        "# remove from dataframes \n",
        "\n",
        "TRAIN_DF = TRAIN_DF[TRAIN_DF['IDENTITY'] != 'UNREADABLE']\n",
        "VALID_DF = VALID_DF[VALID_DF['IDENTITY'] != 'UNREADABLE']\n",
        "TEST_DF = TEST_DF[TEST_DF['IDENTITY'] != 'UNREADABLE']"
      ],
      "execution_count": 30,
      "outputs": []
    },
    {
      "cell_type": "markdown",
      "metadata": {
        "id": "zHM0f5Fl907G",
        "colab_type": "text"
      },
      "source": [
        "There are some labels which are in lowercase. To maintain uniformity in the labels, I convert all the labels to uppercase"
      ]
    },
    {
      "cell_type": "code",
      "metadata": {
        "id": "QU_zaSW980tI",
        "colab_type": "code",
        "colab": {}
      },
      "source": [
        "TRAIN_DF['IDENTITY'] = TRAIN_DF['IDENTITY'].str.upper()\n",
        "VALID_DF['IDENTITY'] = VALID_DF['IDENTITY'].str.upper()\n",
        "TEST_DF['IDENTITY'] = TEST_DF['IDENTITY'].str.upper()"
      ],
      "execution_count": 31,
      "outputs": []
    },
    {
      "cell_type": "markdown",
      "metadata": {
        "id": "Nh-8Auzg-k5h",
        "colab_type": "text"
      },
      "source": [
        "Reset the index and we are done with cleaning.\n",
        "\n"
      ]
    },
    {
      "cell_type": "code",
      "metadata": {
        "id": "Oa5Lg6I1-hxO",
        "colab_type": "code",
        "colab": {}
      },
      "source": [
        "TRAIN_DF.reset_index(inplace = True, drop=True) \n",
        "VALID_DF.reset_index(inplace = True, drop=True)\n",
        "TEST_DF.reset_index(inplace = True, drop=True)"
      ],
      "execution_count": 32,
      "outputs": []
    },
    {
      "cell_type": "markdown",
      "metadata": {
        "id": "9lgyo5lnDWVw",
        "colab_type": "text"
      },
      "source": [
        "\n",
        "\n",
        "---\n",
        "\n"
      ]
    },
    {
      "cell_type": "markdown",
      "metadata": {
        "id": "Ypjuri6wEtn2",
        "colab_type": "text"
      },
      "source": [
        "# Define Main Parameters"
      ]
    },
    {
      "cell_type": "code",
      "metadata": {
        "id": "xRjz5pV9Ak_d",
        "colab_type": "code",
        "colab": {}
      },
      "source": [
        "CHAR_VECTOR = \"ABCDEFGHIJKLMNOPQRSTUVWXYZ -'\"\n",
        "\n",
        "letters = [letter for letter in CHAR_VECTOR]\n",
        "\n",
        "num_of_characters = len(letters) + 1    # +1 for ctc pseudo blank\n",
        "\n",
        "IMG_WIDTH = 128\n",
        "IMG_HIGHT = 64\n",
        "\n",
        "# Network parameters\n",
        "TRAIN_BATCH_SIZE = 128\n",
        "VALID_BATCH_SIZE= 32\n",
        "TEST_BATCH_SIZE= 32\n",
        "\n",
        "\n",
        "max_text_len = 24                         # max length of input labels\n",
        "num_of_timestamps = 64                    # max length of predicted labels\n",
        "\n",
        "\n"
      ],
      "execution_count": 33,
      "outputs": []
    },
    {
      "cell_type": "markdown",
      "metadata": {
        "id": "9F_4r-ezFlfF",
        "colab_type": "text"
      },
      "source": [
        "# Image Generation"
      ]
    },
    {
      "cell_type": "code",
      "metadata": {
        "id": "6hDP9gTf_CQa",
        "colab_type": "code",
        "colab": {}
      },
      "source": [
        "from image_generator import text_to_labels, labels_to_text\n",
        "from image_generator import TextImageGenerator"
      ],
      "execution_count": 51,
      "outputs": []
    },
    {
      "cell_type": "code",
      "metadata": {
        "id": "DW-FE16TF0QB",
        "colab_type": "code",
        "colab": {
          "base_uri": "https://localhost:8080/",
          "height": 51
        },
        "outputId": "c3b7a0cd-7dc2-41b4-eb31-fd07ee8330ec"
      },
      "source": [
        "# Example\n",
        "name = 'MOHAMMED TAYSEER'\n",
        "print(name, '\\n',text_to_labels(name))"
      ],
      "execution_count": 52,
      "outputs": [
        {
          "output_type": "stream",
          "text": [
            "MOHAMMED TAYSEER \n",
            " [12, 14, 7, 0, 12, 12, 4, 3, 26, 19, 0, 24, 18, 4, 4, 17]\n"
          ],
          "name": "stdout"
        }
      ]
    },
    {
      "cell_type": "code",
      "metadata": {
        "id": "cQN6-W6LKuQO",
        "colab_type": "code",
        "colab": {
          "base_uri": "https://localhost:8080/",
          "height": 34
        },
        "outputId": "bd93a178-56ea-4e1c-e77e-d6c7c32f87f4"
      },
      "source": [
        "# lables to text, add -1 to labels\n",
        "labels_to_name=labels_to_text([-1, 12, 14, 7, 0, 12, 12, 4, 3, 26, -1, 19, 0, 24, 18, 4, 4, 17, -1])\n",
        "print(labels_to_name)\n"
      ],
      "execution_count": 53,
      "outputs": [
        {
          "output_type": "stream",
          "text": [
            "MOHAMMED TAYSEER\n"
          ],
          "name": "stdout"
        }
      ]
    },
    {
      "cell_type": "markdown",
      "metadata": {
        "id": "-6egCOQyVmnJ",
        "colab_type": "text"
      },
      "source": [
        "## Create Train Dataset"
      ]
    },
    {
      "cell_type": "code",
      "metadata": {
        "id": "z9j9HULhL0Te",
        "colab_type": "code",
        "colab": {}
      },
      "source": [
        "# Instance image generator class for train data\n",
        "\n",
        "train_data_generator = TextImageGenerator(TRAIN_DF, TRAIN_IMG_DIR, IMG_WIDTH, IMG_HIGHT,\n",
        "                 TRAIN_BATCH_SIZE, limit_samples=5000)\n",
        "\n"
      ],
      "execution_count": 65,
      "outputs": []
    },
    {
      "cell_type": "code",
      "metadata": {
        "id": "BoTC6EyFMxMI",
        "colab_type": "code",
        "colab": {
          "base_uri": "https://localhost:8080/",
          "height": 68
        },
        "outputId": "3338b501-eead-45c6-d416-777c75cb01bc"
      },
      "source": [
        "# process and build texts, images from dir\n",
        "\n",
        "train_data_generator.build_data()"
      ],
      "execution_count": 66,
      "outputs": [
        {
          "output_type": "stream",
          "text": [
            "5000  Image Loading start...\n",
            "True\n",
            "5000  Image Loading finish...\n"
          ],
          "name": "stdout"
        }
      ]
    },
    {
      "cell_type": "markdown",
      "metadata": {
        "id": "pAichbeGW32k",
        "colab_type": "text"
      },
      "source": [
        "## Create Valid Dataset"
      ]
    },
    {
      "cell_type": "code",
      "metadata": {
        "id": "2KFOB55SL_el",
        "colab_type": "code",
        "colab": {}
      },
      "source": [
        "# Instance image generator class for valid data\n",
        "\n",
        "valid_data_generator = TextImageGenerator(VALID_DF, VALID_IMG_DIR, IMG_WIDTH, IMG_HIGHT,\n",
        "                 VALID_BATCH_SIZE, limit_samples=2000)\n"
      ],
      "execution_count": 58,
      "outputs": []
    },
    {
      "cell_type": "code",
      "metadata": {
        "id": "M0ER8STCMymo",
        "colab_type": "code",
        "colab": {
          "base_uri": "https://localhost:8080/",
          "height": 68
        },
        "outputId": "0aa54726-da6d-4c76-9fb2-56b0eaadafbe"
      },
      "source": [
        "# process and build texts, images from dir\n",
        "\n",
        "valid_data_generator.build_data()"
      ],
      "execution_count": 59,
      "outputs": [
        {
          "output_type": "stream",
          "text": [
            "2000  Image Loading start...\n",
            "True\n",
            "2000  Image Loading finish...\n"
          ],
          "name": "stdout"
        }
      ]
    },
    {
      "cell_type": "markdown",
      "metadata": {
        "id": "dKAppnmjX7_l",
        "colab_type": "text"
      },
      "source": [
        "## Create Test Dataset"
      ]
    },
    {
      "cell_type": "code",
      "metadata": {
        "id": "sHfpiWIHMoAL",
        "colab_type": "code",
        "colab": {}
      },
      "source": [
        "# Instance image generator class for test data\n",
        "test_data_generator = TextImageGenerator(TEST_DF, TEST_IMG_DIR, IMG_WIDTH, IMG_HIGHT,\n",
        "                 TEST_BATCH_SIZE, limit_samples=3000)"
      ],
      "execution_count": 61,
      "outputs": []
    },
    {
      "cell_type": "code",
      "metadata": {
        "id": "0ocs3SwkMzwo",
        "colab_type": "code",
        "colab": {
          "base_uri": "https://localhost:8080/",
          "height": 68
        },
        "outputId": "b2e7b7db-444f-43fc-91a1-f9bc52940906"
      },
      "source": [
        "# process and build texts, images from dir\n",
        "\n",
        "test_data_generator.build_data()"
      ],
      "execution_count": 62,
      "outputs": [
        {
          "output_type": "stream",
          "text": [
            "3000  Image Loading start...\n",
            "True\n",
            "3000  Image Loading finish...\n"
          ],
          "name": "stdout"
        }
      ]
    },
    {
      "cell_type": "markdown",
      "metadata": {
        "id": "wIDLxgrfc2_M",
        "colab_type": "text"
      },
      "source": [
        "## Visualize the data from dataset"
      ]
    },
    {
      "cell_type": "code",
      "metadata": {
        "id": "mQ3zPzzlOdzn",
        "colab_type": "code",
        "colab": {}
      },
      "source": [
        "train_batch=next(train_data_generator.next_batch())    # Get batch"
      ],
      "execution_count": 74,
      "outputs": []
    },
    {
      "cell_type": "code",
      "metadata": {
        "id": "UMtUmciMOzTk",
        "colab_type": "code",
        "colab": {}
      },
      "source": [
        "inputs, outputs=train_batch"
      ],
      "execution_count": 82,
      "outputs": []
    },
    {
      "cell_type": "code",
      "metadata": {
        "id": "MzNwbI9cP6UM",
        "colab_type": "code",
        "colab": {
          "base_uri": "https://localhost:8080/",
          "height": 119
        },
        "outputId": "aacbde38-d879-4f57-9697-cd0f895d140f"
      },
      "source": [
        "# Get the first sample in batch for inputs\n",
        "\n",
        "\n",
        "print(\"Img with shape: \", inputs['the_input'][0].shape)\n",
        "\n",
        "print(\"Label: \", inputs['the_labels'][0])\n",
        "print(\"The text of this label is: \", labels_to_text(inputs['the_labels'][0]))\n",
        "\n",
        "print(\"Input length: \", inputs['input_length'][0])\n",
        "\n",
        "print(\"Label length\", inputs['label_length'][0])\n",
        "\n"
      ],
      "execution_count": 90,
      "outputs": [
        {
          "output_type": "stream",
          "text": [
            "Img with shape:  (128, 64, 1)\n",
            "Label:  [ 9. 14. 20.  8. -1. -1. -1. -1. -1. -1. -1. -1. -1. -1. -1. -1. -1. -1.\n",
            " -1. -1. -1. -1. -1. -1.]\n",
            "The text of this label is:  JOUI\n",
            "Input length:  [62.]\n",
            "Label length [4.]\n"
          ],
          "name": "stdout"
        }
      ]
    },
    {
      "cell_type": "code",
      "metadata": {
        "id": "9y80E1ZJSX9X",
        "colab_type": "code",
        "colab": {
          "base_uri": "https://localhost:8080/",
          "height": 34
        },
        "outputId": "15b6ecb0-c777-4b0d-eb3b-e51b0abc2525"
      },
      "source": [
        "outputs['ctc'][0]"
      ],
      "execution_count": 100,
      "outputs": [
        {
          "output_type": "execute_result",
          "data": {
            "text/plain": [
              "0.0"
            ]
          },
          "metadata": {
            "tags": []
          },
          "execution_count": 100
        }
      ]
    },
    {
      "cell_type": "code",
      "metadata": {
        "id": "gvcR2OXTOFRu",
        "colab_type": "code",
        "colab": {}
      },
      "source": [
        "def disply_batch_data(image_batch, label_batch):\n",
        "  plt.figure(figsize=(4, 4))\n",
        "  for i in range(1):\n",
        "    ax = plt.subplot(1, 1, i + 1)\n",
        "    if(len(image_batch[i].shape) == 3):\n",
        "       plt.imshow(np.squeeze(image_batch[i]))\n",
        "    elif(len(image_batch[i].shape) == 2):\n",
        "      plt.imshow(image_batch[i])\n",
        "    else:\n",
        "      print(\"Higher dimensional data\")\n",
        "\n",
        "    label = label_batch[i]\n",
        "    plt.title(\"{}: ({})\".format(labels_to_text(label),label))\n",
        "    plt.axis(\"off\")"
      ],
      "execution_count": 124,
      "outputs": []
    },
    {
      "cell_type": "code",
      "metadata": {
        "id": "T0909DyrRmGJ",
        "colab_type": "code",
        "colab": {
          "base_uri": "https://localhost:8080/",
          "height": 279
        },
        "outputId": "1325fcf7-1b4c-4d76-b6fc-4231242d2894"
      },
      "source": [
        "disply_batch_data(inputs['the_input'], inputs['the_labels'])"
      ],
      "execution_count": 125,
      "outputs": [
        {
          "output_type": "display_data",
          "data": {
            "image/png": "[encoded data removed]",
            "text/plain": [
              "<Figure size 288x288 with 1 Axes>"
            ]
          },
          "metadata": {
            "tags": [],
            "needs_background": "light"
          }
        }
      ]
    },
    {
      "cell_type": "markdown",
      "metadata": {
        "id": "pYPWPYsucwOn",
        "colab_type": "text"
      },
      "source": [
        "\n",
        "\n",
        "---\n",
        "\n"
      ]
    },
    {
      "cell_type": "markdown",
      "metadata": {
        "id": "hdF_enwKfIpn",
        "colab_type": "text"
      },
      "source": [
        "# Create Model and training"
      ]
    },
    {
      "cell_type": "code",
      "metadata": {
        "id": "aMqzQKqecDlJ",
        "colab_type": "code",
        "colab": {}
      },
      "source": [
        "from keras import backend as K\n",
        "from keras.optimizers import Adam\n",
        "from keras.callbacks import EarlyStopping, ModelCheckpoint\n",
        "from crnn_model import get_Model\n",
        "from parameters import *\n",
        "\n",
        "K.set_learning_phase(0)"
      ],
      "execution_count": 175,
      "outputs": []
    },
    {
      "cell_type": "code",
      "metadata": {
        "id": "pLqaoVFxbyca",
        "colab_type": "code",
        "colab": {
          "base_uri": "https://localhost:8080/",
          "height": 71
        },
        "outputId": "9a6eff8f-625c-49d4-fb90-43dd83f1d36d"
      },
      "source": [
        "# # Model description and training\n",
        "\n",
        "model = get_Model(training=True)\n",
        "\n",
        "try:\n",
        "    model.load_weights('LSTM+BN4--26--0.011.hdf5')\n",
        "    print(\"...Previous weight data...\")\n",
        "except:\n",
        "    print(\"...New weight data...\")\n",
        "    pass\n",
        "\n",
        "ada = Adam()\n",
        "\n",
        "early_stop = EarlyStopping(monitor='loss', min_delta=0.001, patience=4, mode='min', verbose=1)\n",
        "checkpoint = ModelCheckpoint(filepath='LSTM+BN5--{epoch:02d}--{val_loss:.3f}.hdf5', monitor='loss', verbose=1, mode='min', period=1)\n",
        "# the loss calc occurs elsewhere, so use a dummy lambda func for the loss\n",
        "model.compile(loss={'ctc': lambda y_true, y_pred: y_pred}, optimizer=ada)\n",
        "\n"
      ],
      "execution_count": 176,
      "outputs": [
        {
          "output_type": "stream",
          "text": [
            "...New weight data...\n",
            "WARNING:tensorflow:`period` argument is deprecated. Please use `save_freq` to specify the frequency in number of batches seen.\n"
          ],
          "name": "stdout"
        }
      ]
    },
    {
      "cell_type": "code",
      "metadata": {
        "id": "faZ1LGDHcBmP",
        "colab_type": "code",
        "colab": {
          "base_uri": "https://localhost:8080/",
          "height": 544
        },
        "outputId": "733bac93-5f77-4a36-e493-55e34d1b808b"
      },
      "source": [
        "# captures output of softmax so we can decode the output during visualization\n",
        "model.fit(train_data_generator.next_batch(),\n",
        "                    steps_per_epoch=int(train_data_generator.n / TRAIN_BATCH_SIZE),\n",
        "                    epochs=30,\n",
        "                    callbacks=[checkpoint],\n",
        "                    validation_data=valid_data_generator.next_batch(),\n",
        "                    validation_steps=int(valid_data_generator.n / VALID_BATCH_SIZE))"
      ],
      "execution_count": 177,
      "outputs": [
        {
          "output_type": "stream",
          "text": [
            "Epoch 1/30\n"
          ],
          "name": "stdout"
        },
        {
          "output_type": "error",
          "ename": "InvalidArgumentError",
          "evalue": "ignored",
          "traceback": [
            "\u001b[0;31m---------------------------------------------------------------------------\u001b[0m",
            "\u001b[0;31mInvalidArgumentError\u001b[0m                      Traceback (most recent call last)",
            "\u001b[0;32m<ipython-input-177-365bec97f840>\u001b[0m in \u001b[0;36m<module>\u001b[0;34m()\u001b[0m\n\u001b[1;32m      5\u001b[0m                     \u001b[0mcallbacks\u001b[0m\u001b[0;34m=\u001b[0m\u001b[0;34m[\u001b[0m\u001b[0mcheckpoint\u001b[0m\u001b[0;34m]\u001b[0m\u001b[0;34m,\u001b[0m\u001b[0;34m\u001b[0m\u001b[0;34m\u001b[0m\u001b[0m\n\u001b[1;32m      6\u001b[0m                     \u001b[0mvalidation_data\u001b[0m\u001b[0;34m=\u001b[0m\u001b[0mvalid_data_generator\u001b[0m\u001b[0;34m.\u001b[0m\u001b[0mnext_batch\u001b[0m\u001b[0;34m(\u001b[0m\u001b[0;34m)\u001b[0m\u001b[0;34m,\u001b[0m\u001b[0;34m\u001b[0m\u001b[0;34m\u001b[0m\u001b[0m\n\u001b[0;32m----> 7\u001b[0;31m                     validation_steps=int(valid_data_generator.n / VALID_BATCH_SIZE))\n\u001b[0m",
            "\u001b[0;32m/usr/local/lib/python3.6/dist-packages/tensorflow/python/keras/engine/training.py\u001b[0m in \u001b[0;36m_method_wrapper\u001b[0;34m(self, *args, **kwargs)\u001b[0m\n\u001b[1;32m    106\u001b[0m   \u001b[0;32mdef\u001b[0m \u001b[0m_method_wrapper\u001b[0m\u001b[0;34m(\u001b[0m\u001b[0mself\u001b[0m\u001b[0;34m,\u001b[0m \u001b[0;34m*\u001b[0m\u001b[0margs\u001b[0m\u001b[0;34m,\u001b[0m \u001b[0;34m**\u001b[0m\u001b[0mkwargs\u001b[0m\u001b[0;34m)\u001b[0m\u001b[0;34m:\u001b[0m\u001b[0;34m\u001b[0m\u001b[0;34m\u001b[0m\u001b[0m\n\u001b[1;32m    107\u001b[0m     \u001b[0;32mif\u001b[0m \u001b[0;32mnot\u001b[0m \u001b[0mself\u001b[0m\u001b[0;34m.\u001b[0m\u001b[0m_in_multi_worker_mode\u001b[0m\u001b[0;34m(\u001b[0m\u001b[0;34m)\u001b[0m\u001b[0;34m:\u001b[0m  \u001b[0;31m# pylint: disable=protected-access\u001b[0m\u001b[0;34m\u001b[0m\u001b[0;34m\u001b[0m\u001b[0m\n\u001b[0;32m--> 108\u001b[0;31m       \u001b[0;32mreturn\u001b[0m \u001b[0mmethod\u001b[0m\u001b[0;34m(\u001b[0m\u001b[0mself\u001b[0m\u001b[0;34m,\u001b[0m \u001b[0;34m*\u001b[0m\u001b[0margs\u001b[0m\u001b[0;34m,\u001b[0m \u001b[0;34m**\u001b[0m\u001b[0mkwargs\u001b[0m\u001b[0;34m)\u001b[0m\u001b[0;34m\u001b[0m\u001b[0;34m\u001b[0m\u001b[0m\n\u001b[0m\u001b[1;32m    109\u001b[0m \u001b[0;34m\u001b[0m\u001b[0m\n\u001b[1;32m    110\u001b[0m     \u001b[0;31m# Running inside `run_distribute_coordinator` already.\u001b[0m\u001b[0;34m\u001b[0m\u001b[0;34m\u001b[0m\u001b[0;34m\u001b[0m\u001b[0m\n",
            "\u001b[0;32m/usr/local/lib/python3.6/dist-packages/tensorflow/python/keras/engine/training.py\u001b[0m in \u001b[0;36mfit\u001b[0;34m(self, x, y, batch_size, epochs, verbose, callbacks, validation_split, validation_data, shuffle, class_weight, sample_weight, initial_epoch, steps_per_epoch, validation_steps, validation_batch_size, validation_freq, max_queue_size, workers, use_multiprocessing)\u001b[0m\n\u001b[1;32m   1096\u001b[0m                 batch_size=batch_size):\n\u001b[1;32m   1097\u001b[0m               \u001b[0mcallbacks\u001b[0m\u001b[0;34m.\u001b[0m\u001b[0mon_train_batch_begin\u001b[0m\u001b[0;34m(\u001b[0m\u001b[0mstep\u001b[0m\u001b[0;34m)\u001b[0m\u001b[0;34m\u001b[0m\u001b[0;34m\u001b[0m\u001b[0m\n\u001b[0;32m-> 1098\u001b[0;31m               \u001b[0mtmp_logs\u001b[0m \u001b[0;34m=\u001b[0m \u001b[0mtrain_function\u001b[0m\u001b[0;34m(\u001b[0m\u001b[0miterator\u001b[0m\u001b[0;34m)\u001b[0m\u001b[0;34m\u001b[0m\u001b[0;34m\u001b[0m\u001b[0m\n\u001b[0m\u001b[1;32m   1099\u001b[0m               \u001b[0;32mif\u001b[0m \u001b[0mdata_handler\u001b[0m\u001b[0;34m.\u001b[0m\u001b[0mshould_sync\u001b[0m\u001b[0;34m:\u001b[0m\u001b[0;34m\u001b[0m\u001b[0;34m\u001b[0m\u001b[0m\n\u001b[1;32m   1100\u001b[0m                 \u001b[0mcontext\u001b[0m\u001b[0;34m.\u001b[0m\u001b[0masync_wait\u001b[0m\u001b[0;34m(\u001b[0m\u001b[0;34m)\u001b[0m\u001b[0;34m\u001b[0m\u001b[0;34m\u001b[0m\u001b[0m\n",
            "\u001b[0;32m/usr/local/lib/python3.6/dist-packages/tensorflow/python/eager/def_function.py\u001b[0m in \u001b[0;36m__call__\u001b[0;34m(self, *args, **kwds)\u001b[0m\n\u001b[1;32m    778\u001b[0m       \u001b[0;32melse\u001b[0m\u001b[0;34m:\u001b[0m\u001b[0;34m\u001b[0m\u001b[0;34m\u001b[0m\u001b[0m\n\u001b[1;32m    779\u001b[0m         \u001b[0mcompiler\u001b[0m \u001b[0;34m=\u001b[0m \u001b[0;34m\"nonXla\"\u001b[0m\u001b[0;34m\u001b[0m\u001b[0;34m\u001b[0m\u001b[0m\n\u001b[0;32m--> 780\u001b[0;31m         \u001b[0mresult\u001b[0m \u001b[0;34m=\u001b[0m \u001b[0mself\u001b[0m\u001b[0;34m.\u001b[0m\u001b[0m_call\u001b[0m\u001b[0;34m(\u001b[0m\u001b[0;34m*\u001b[0m\u001b[0margs\u001b[0m\u001b[0;34m,\u001b[0m \u001b[0;34m**\u001b[0m\u001b[0mkwds\u001b[0m\u001b[0;34m)\u001b[0m\u001b[0;34m\u001b[0m\u001b[0;34m\u001b[0m\u001b[0m\n\u001b[0m\u001b[1;32m    781\u001b[0m \u001b[0;34m\u001b[0m\u001b[0m\n\u001b[1;32m    782\u001b[0m       \u001b[0mnew_tracing_count\u001b[0m \u001b[0;34m=\u001b[0m \u001b[0mself\u001b[0m\u001b[0;34m.\u001b[0m\u001b[0m_get_tracing_count\u001b[0m\u001b[0;34m(\u001b[0m\u001b[0;34m)\u001b[0m\u001b[0;34m\u001b[0m\u001b[0;34m\u001b[0m\u001b[0m\n",
            "\u001b[0;32m/usr/local/lib/python3.6/dist-packages/tensorflow/python/eager/def_function.py\u001b[0m in \u001b[0;36m_call\u001b[0;34m(self, *args, **kwds)\u001b[0m\n\u001b[1;32m    838\u001b[0m         \u001b[0;31m# Lifting succeeded, so variables are initialized and we can run the\u001b[0m\u001b[0;34m\u001b[0m\u001b[0;34m\u001b[0m\u001b[0;34m\u001b[0m\u001b[0m\n\u001b[1;32m    839\u001b[0m         \u001b[0;31m# stateless function.\u001b[0m\u001b[0;34m\u001b[0m\u001b[0;34m\u001b[0m\u001b[0;34m\u001b[0m\u001b[0m\n\u001b[0;32m--> 840\u001b[0;31m         \u001b[0;32mreturn\u001b[0m \u001b[0mself\u001b[0m\u001b[0;34m.\u001b[0m\u001b[0m_stateless_fn\u001b[0m\u001b[0;34m(\u001b[0m\u001b[0;34m*\u001b[0m\u001b[0margs\u001b[0m\u001b[0;34m,\u001b[0m \u001b[0;34m**\u001b[0m\u001b[0mkwds\u001b[0m\u001b[0;34m)\u001b[0m\u001b[0;34m\u001b[0m\u001b[0;34m\u001b[0m\u001b[0m\n\u001b[0m\u001b[1;32m    841\u001b[0m     \u001b[0;32melse\u001b[0m\u001b[0;34m:\u001b[0m\u001b[0;34m\u001b[0m\u001b[0;34m\u001b[0m\u001b[0m\n\u001b[1;32m    842\u001b[0m       \u001b[0mcanon_args\u001b[0m\u001b[0;34m,\u001b[0m \u001b[0mcanon_kwds\u001b[0m \u001b[0;34m=\u001b[0m\u001b[0;31m \u001b[0m\u001b[0;31m\\\u001b[0m\u001b[0;34m\u001b[0m\u001b[0;34m\u001b[0m\u001b[0m\n",
            "\u001b[0;32m/usr/local/lib/python3.6/dist-packages/tensorflow/python/eager/function.py\u001b[0m in \u001b[0;36m__call__\u001b[0;34m(self, *args, **kwargs)\u001b[0m\n\u001b[1;32m   2827\u001b[0m     \u001b[0;32mwith\u001b[0m \u001b[0mself\u001b[0m\u001b[0;34m.\u001b[0m\u001b[0m_lock\u001b[0m\u001b[0;34m:\u001b[0m\u001b[0;34m\u001b[0m\u001b[0;34m\u001b[0m\u001b[0m\n\u001b[1;32m   2828\u001b[0m       \u001b[0mgraph_function\u001b[0m\u001b[0;34m,\u001b[0m \u001b[0margs\u001b[0m\u001b[0;34m,\u001b[0m \u001b[0mkwargs\u001b[0m \u001b[0;34m=\u001b[0m \u001b[0mself\u001b[0m\u001b[0;34m.\u001b[0m\u001b[0m_maybe_define_function\u001b[0m\u001b[0;34m(\u001b[0m\u001b[0margs\u001b[0m\u001b[0;34m,\u001b[0m \u001b[0mkwargs\u001b[0m\u001b[0;34m)\u001b[0m\u001b[0;34m\u001b[0m\u001b[0;34m\u001b[0m\u001b[0m\n\u001b[0;32m-> 2829\u001b[0;31m     \u001b[0;32mreturn\u001b[0m \u001b[0mgraph_function\u001b[0m\u001b[0;34m.\u001b[0m\u001b[0m_filtered_call\u001b[0m\u001b[0;34m(\u001b[0m\u001b[0margs\u001b[0m\u001b[0;34m,\u001b[0m \u001b[0mkwargs\u001b[0m\u001b[0;34m)\u001b[0m  \u001b[0;31m# pylint: disable=protected-access\u001b[0m\u001b[0;34m\u001b[0m\u001b[0;34m\u001b[0m\u001b[0m\n\u001b[0m\u001b[1;32m   2830\u001b[0m \u001b[0;34m\u001b[0m\u001b[0m\n\u001b[1;32m   2831\u001b[0m   \u001b[0;34m@\u001b[0m\u001b[0mproperty\u001b[0m\u001b[0;34m\u001b[0m\u001b[0;34m\u001b[0m\u001b[0m\n",
            "\u001b[0;32m/usr/local/lib/python3.6/dist-packages/tensorflow/python/eager/function.py\u001b[0m in \u001b[0;36m_filtered_call\u001b[0;34m(self, args, kwargs, cancellation_manager)\u001b[0m\n\u001b[1;32m   1846\u001b[0m                            resource_variable_ops.BaseResourceVariable))],\n\u001b[1;32m   1847\u001b[0m         \u001b[0mcaptured_inputs\u001b[0m\u001b[0;34m=\u001b[0m\u001b[0mself\u001b[0m\u001b[0;34m.\u001b[0m\u001b[0mcaptured_inputs\u001b[0m\u001b[0;34m,\u001b[0m\u001b[0;34m\u001b[0m\u001b[0;34m\u001b[0m\u001b[0m\n\u001b[0;32m-> 1848\u001b[0;31m         cancellation_manager=cancellation_manager)\n\u001b[0m\u001b[1;32m   1849\u001b[0m \u001b[0;34m\u001b[0m\u001b[0m\n\u001b[1;32m   1850\u001b[0m   \u001b[0;32mdef\u001b[0m \u001b[0m_call_flat\u001b[0m\u001b[0;34m(\u001b[0m\u001b[0mself\u001b[0m\u001b[0;34m,\u001b[0m \u001b[0margs\u001b[0m\u001b[0;34m,\u001b[0m \u001b[0mcaptured_inputs\u001b[0m\u001b[0;34m,\u001b[0m \u001b[0mcancellation_manager\u001b[0m\u001b[0;34m=\u001b[0m\u001b[0;32mNone\u001b[0m\u001b[0;34m)\u001b[0m\u001b[0;34m:\u001b[0m\u001b[0;34m\u001b[0m\u001b[0;34m\u001b[0m\u001b[0m\n",
            "\u001b[0;32m/usr/local/lib/python3.6/dist-packages/tensorflow/python/eager/function.py\u001b[0m in \u001b[0;36m_call_flat\u001b[0;34m(self, args, captured_inputs, cancellation_manager)\u001b[0m\n\u001b[1;32m   1922\u001b[0m       \u001b[0;31m# No tape is watching; skip to running the function.\u001b[0m\u001b[0;34m\u001b[0m\u001b[0;34m\u001b[0m\u001b[0;34m\u001b[0m\u001b[0m\n\u001b[1;32m   1923\u001b[0m       return self._build_call_outputs(self._inference_function.call(\n\u001b[0;32m-> 1924\u001b[0;31m           ctx, args, cancellation_manager=cancellation_manager))\n\u001b[0m\u001b[1;32m   1925\u001b[0m     forward_backward = self._select_forward_and_backward_functions(\n\u001b[1;32m   1926\u001b[0m         \u001b[0margs\u001b[0m\u001b[0;34m,\u001b[0m\u001b[0;34m\u001b[0m\u001b[0;34m\u001b[0m\u001b[0m\n",
            "\u001b[0;32m/usr/local/lib/python3.6/dist-packages/tensorflow/python/eager/function.py\u001b[0m in \u001b[0;36mcall\u001b[0;34m(self, ctx, args, cancellation_manager)\u001b[0m\n\u001b[1;32m    548\u001b[0m               \u001b[0minputs\u001b[0m\u001b[0;34m=\u001b[0m\u001b[0margs\u001b[0m\u001b[0;34m,\u001b[0m\u001b[0;34m\u001b[0m\u001b[0;34m\u001b[0m\u001b[0m\n\u001b[1;32m    549\u001b[0m               \u001b[0mattrs\u001b[0m\u001b[0;34m=\u001b[0m\u001b[0mattrs\u001b[0m\u001b[0;34m,\u001b[0m\u001b[0;34m\u001b[0m\u001b[0;34m\u001b[0m\u001b[0m\n\u001b[0;32m--> 550\u001b[0;31m               ctx=ctx)\n\u001b[0m\u001b[1;32m    551\u001b[0m         \u001b[0;32melse\u001b[0m\u001b[0;34m:\u001b[0m\u001b[0;34m\u001b[0m\u001b[0;34m\u001b[0m\u001b[0m\n\u001b[1;32m    552\u001b[0m           outputs = execute.execute_with_cancellation(\n",
            "\u001b[0;32m/usr/local/lib/python3.6/dist-packages/tensorflow/python/eager/execute.py\u001b[0m in \u001b[0;36mquick_execute\u001b[0;34m(op_name, num_outputs, inputs, attrs, ctx, name)\u001b[0m\n\u001b[1;32m     58\u001b[0m     \u001b[0mctx\u001b[0m\u001b[0;34m.\u001b[0m\u001b[0mensure_initialized\u001b[0m\u001b[0;34m(\u001b[0m\u001b[0;34m)\u001b[0m\u001b[0;34m\u001b[0m\u001b[0;34m\u001b[0m\u001b[0m\n\u001b[1;32m     59\u001b[0m     tensors = pywrap_tfe.TFE_Py_Execute(ctx._handle, device_name, op_name,\n\u001b[0;32m---> 60\u001b[0;31m                                         inputs, attrs, num_outputs)\n\u001b[0m\u001b[1;32m     61\u001b[0m   \u001b[0;32mexcept\u001b[0m \u001b[0mcore\u001b[0m\u001b[0;34m.\u001b[0m\u001b[0m_NotOkStatusException\u001b[0m \u001b[0;32mas\u001b[0m \u001b[0me\u001b[0m\u001b[0;34m:\u001b[0m\u001b[0;34m\u001b[0m\u001b[0;34m\u001b[0m\u001b[0m\n\u001b[1;32m     62\u001b[0m     \u001b[0;32mif\u001b[0m \u001b[0mname\u001b[0m \u001b[0;32mis\u001b[0m \u001b[0;32mnot\u001b[0m \u001b[0;32mNone\u001b[0m\u001b[0;34m:\u001b[0m\u001b[0;34m\u001b[0m\u001b[0;34m\u001b[0m\u001b[0m\n",
            "\u001b[0;31mInvalidArgumentError\u001b[0m: 2 root error(s) found.\n  (0) Invalid argument:  sequence_length(0) <= 30\n\t [[node functional_13/ctc/CTCLoss (defined at /content/crnn_model.py:17) ]]\n  (1) Invalid argument:  sequence_length(0) <= 30\n\t [[node functional_13/ctc/CTCLoss (defined at /content/crnn_model.py:17) ]]\n\t [[functional_13/ctc/CTCLoss/_92]]\n0 successful operations.\n0 derived errors ignored. [Op:__inference_train_function_83801]\n\nFunction call stack:\ntrain_function -> train_function\n"
          ]
        }
      ]
    },
    {
      "cell_type": "code",
      "metadata": {
        "id": "5swesJw2ctDc",
        "colab_type": "code",
        "colab": {}
      },
      "source": [
        ""
      ],
      "execution_count": null,
      "outputs": []
    }
  ]
}